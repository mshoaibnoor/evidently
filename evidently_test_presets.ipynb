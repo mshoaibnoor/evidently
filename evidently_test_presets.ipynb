{
 "cells": [
  {
   "cell_type": "code",
   "execution_count": 1,
   "metadata": {},
   "outputs": [],
   "source": [
    "import pandas as pd\n",
    "import numpy as np\n",
    "\n",
    "from sklearn import datasets, ensemble, model_selection\n",
    "\n",
    "from evidently import ColumnMapping\n",
    "from evidently.test_suite import TestSuite\n",
    "\n",
    "from evidently.test_preset import NoTargetPerformanceTestPreset\n",
    "from evidently.test_preset import DataQualityTestPreset\n",
    "from evidently.test_preset import DataStabilityTestPreset\n",
    "from evidently.test_preset import DataDriftTestPreset\n",
    "from evidently.test_preset import RegressionTestPreset\n",
    "from evidently.test_preset import MulticlassClassificationTestPreset\n",
    "from evidently.test_preset import BinaryClassificationTopKTestPreset\n",
    "from evidently.test_preset import BinaryClassificationTestPreset"
   ]
  },
  {
   "cell_type": "code",
   "execution_count": 2,
   "metadata": {},
   "outputs": [
    {
     "name": "stderr",
     "output_type": "stream",
     "text": [
      "/home/shoaib/mlflow/lib/python3.10/site-packages/sklearn/datasets/_openml.py:968: FutureWarning: The default value of `parser` will change from `'liac-arff'` to `'auto'` in 1.4. You can set `parser='auto'` to silence this warning. Therefore, an `ImportError` will be raised from 1.4 if the dataset is dense and pandas is not installed. Note that the pandas parser may return different data types. See the Notes Section in fetch_openml's API doc for details.\n",
      "  warn(\n"
     ]
    }
   ],
   "source": [
    "#Dataset for Data Quality and Integrity\n",
    "adult_data = datasets.fetch_openml(name='adult', version=2, as_frame='auto')\n",
    "adult = adult_data.frame\n",
    "\n",
    "adult_ref = adult[~adult.education.isin(['Some-college', 'HS-grad', 'Bachelors'])]\n",
    "adult_cur = adult[adult.education.isin(['Some-college', 'HS-grad', 'Bachelors'])]\n",
    "\n",
    "adult_cur.iloc[:2000, 3:5] = np.nan"
   ]
  },
  {
   "cell_type": "code",
   "execution_count": 3,
   "metadata": {},
   "outputs": [],
   "source": [
    "#Dataset for Regression\n",
    "housing_data = datasets.fetch_california_housing(as_frame='auto')\n",
    "housing = housing_data.frame\n",
    "\n",
    "housing.rename(columns={'MedHouseVal': 'target'}, inplace=True)\n",
    "housing['prediction'] = housing_data['target'].values + np.random.normal(0, 3, housing.shape[0])\n",
    "\n",
    "housing_ref = housing.sample(n=5000, replace=False)\n",
    "housing_cur = housing.sample(n=5000, replace=False)"
   ]
  },
  {
   "cell_type": "code",
   "execution_count": 4,
   "metadata": {},
   "outputs": [],
   "source": [
    "#Dataset for Binary Probabilistic Classifcation\n",
    "bcancer_data = datasets.load_breast_cancer(as_frame='auto')\n",
    "bcancer = bcancer_data.frame\n",
    "\n",
    "bcancer_ref = bcancer.sample(n=300, replace=False)\n",
    "bcancer_cur = bcancer.sample(n=200, replace=False)\n",
    "\n",
    "bcancer_label_ref = bcancer_ref.copy(deep=True)\n",
    "bcancer_label_cur = bcancer_cur.copy(deep=True)\n",
    "\n",
    "model = ensemble.RandomForestClassifier(random_state=1, n_estimators=10)\n",
    "model.fit(bcancer_ref[bcancer_data.feature_names.tolist()], bcancer_ref.target)\n",
    "\n",
    "bcancer_ref['prediction'] = model.predict_proba(bcancer_ref[bcancer_data.feature_names.tolist()])[:, 1]\n",
    "bcancer_cur['prediction'] = model.predict_proba(bcancer_cur[bcancer_data.feature_names.tolist()])[:, 1]\n",
    "\n",
    "bcancer_label_ref['prediction'] = model.predict(bcancer_label_ref[bcancer_data.feature_names.tolist()])\n",
    "bcancer_label_cur['prediction'] = model.predict(bcancer_label_cur[bcancer_data.feature_names.tolist()])"
   ]
  },
  {
   "cell_type": "code",
   "execution_count": 5,
   "metadata": {},
   "outputs": [],
   "source": [
    "#Dataset for Multiclass Classifcation\n",
    "iris_data = datasets.load_iris(as_frame='auto')\n",
    "iris = iris_data.frame\n",
    "\n",
    "iris_ref = iris.sample(n=75, replace=False)\n",
    "iris_cur = iris.sample(n=75, replace=False)\n",
    "\n",
    "model = ensemble.RandomForestClassifier(random_state=1, n_estimators=3)\n",
    "model.fit(iris_ref[iris_data.feature_names], iris_ref.target)\n",
    "\n",
    "iris_ref['prediction'] = model.predict(iris_ref[iris_data.feature_names])\n",
    "iris_cur['prediction'] = model.predict(iris_cur[iris_data.feature_names])"
   ]
  },
  {
   "cell_type": "code",
   "execution_count": null,
   "metadata": {},
   "outputs": [],
   "source": [
    "data_stability = TestSuite(tests=[\n",
    "    DataStabilityTestPreset(),\n",
    "])\n",
    "\n",
    "data_stability.run(reference_data=adult_ref, current_data=adult_cur)\n",
    "data_stability"
   ]
  },
  {
   "cell_type": "code",
   "execution_count": 7,
   "metadata": {},
   "outputs": [
    {
     "data": {
      "text/plain": [
       "'{\"version\": \"0.4.1\", \"tests\": [{\"name\": \"Number of Rows\", \"description\": \"The number of rows is 34687. The test threshold is eq=1.42e+04 \\\\u00b1 1.42e+03.\", \"status\": \"FAIL\", \"group\": \"data_integrity\", \"parameters\": {\"condition\": {\"eq\": {\"value\": 14155, \"relative\": 0.1, \"absolute\": 1e-12}}, \"value\": 34687.0}}, {\"name\": \"Number of Columns\", \"description\": \"The number of columns is 15. The test threshold is eq=15.\", \"status\": \"SUCCESS\", \"group\": \"data_integrity\", \"parameters\": {\"condition\": {\"eq\": 15}, \"value\": 15.0}}, {\"name\": \"Column Types\", \"description\": \"The number of columns with a type mismatch is 0 out of 15.\", \"status\": \"SUCCESS\", \"group\": \"data_integrity\", \"parameters\": {\"columns\": [{\"actual_type\": \"float64\", \"column_name\": \"age\", \"expected_type\": \"float64\"}, {\"actual_type\": \"CategoricalDtypeType\", \"column_name\": \"workclass\", \"expected_type\": \"CategoricalDtypeType\"}, {\"actual_type\": \"float64\", \"column_name\": \"fnlwgt\", \"expected_type\": \"float64\"}, {\"actual_type\": \"CategoricalDtypeType\", \"column_name\": \"education\", \"expected_type\": \"CategoricalDtypeType\"}, {\"actual_type\": \"float64\", \"column_name\": \"education-num\", \"expected_type\": \"float64\"}, {\"actual_type\": \"CategoricalDtypeType\", \"column_name\": \"marital-status\", \"expected_type\": \"CategoricalDtypeType\"}, {\"actual_type\": \"CategoricalDtypeType\", \"column_name\": \"occupation\", \"expected_type\": \"CategoricalDtypeType\"}, {\"actual_type\": \"CategoricalDtypeType\", \"column_name\": \"relationship\", \"expected_type\": \"CategoricalDtypeType\"}, {\"actual_type\": \"CategoricalDtypeType\", \"column_name\": \"race\", \"expected_type\": \"CategoricalDtypeType\"}, {\"actual_type\": \"CategoricalDtypeType\", \"column_name\": \"sex\", \"expected_type\": \"CategoricalDtypeType\"}, {\"actual_type\": \"float64\", \"column_name\": \"capital-gain\", \"expected_type\": \"float64\"}, {\"actual_type\": \"float64\", \"column_name\": \"capital-loss\", \"expected_type\": \"float64\"}, {\"actual_type\": \"float64\", \"column_name\": \"hours-per-week\", \"expected_type\": \"float64\"}, {\"actual_type\": \"CategoricalDtypeType\", \"column_name\": \"native-country\", \"expected_type\": \"CategoricalDtypeType\"}, {\"actual_type\": \"CategoricalDtypeType\", \"column_name\": \"class\", \"expected_type\": \"CategoricalDtypeType\"}]}}, {\"name\": \"The Share of Missing Values in a Column\", \"description\": \"The share of missing values in the column **class** is 0. The test threshold is lte=0 \\\\u00b1 1e-12.\", \"status\": \"SUCCESS\", \"group\": \"data_integrity\", \"parameters\": {\"condition\": {\"lte\": {\"value\": 0.0, \"relative\": 0.1, \"absolute\": 1e-12}}, \"value\": 0.0, \"column_name\": \"class\"}}, {\"name\": \"The Share of Missing Values in a Column\", \"description\": \"The share of missing values in the column **education** is 0.0577. The test threshold is lte=0 \\\\u00b1 1e-12.\", \"status\": \"FAIL\", \"group\": \"data_integrity\", \"parameters\": {\"condition\": {\"lte\": {\"value\": 0.0, \"relative\": 0.1, \"absolute\": 1e-12}}, \"value\": 0.05765848877100931, \"column_name\": \"education\"}}, {\"name\": \"The Share of Missing Values in a Column\", \"description\": \"The share of missing values in the column **marital-status** is 0. The test threshold is lte=0 \\\\u00b1 1e-12.\", \"status\": \"SUCCESS\", \"group\": \"data_integrity\", \"parameters\": {\"condition\": {\"lte\": {\"value\": 0.0, \"relative\": 0.1, \"absolute\": 1e-12}}, \"value\": 0.0, \"column_name\": \"marital-status\"}}, {\"name\": \"The Share of Missing Values in a Column\", \"description\": \"The share of missing values in the column **native-country** is 0.0162. The test threshold is lte=0.0208 \\\\u00b1 0.00208.\", \"status\": \"SUCCESS\", \"group\": \"data_integrity\", \"parameters\": {\"condition\": {\"lte\": {\"value\": 0.020770045920169553, \"relative\": 0.1, \"absolute\": 1e-12}}, \"value\": 0.01623086458903912, \"column_name\": \"native-country\"}}, {\"name\": \"The Share of Missing Values in a Column\", \"description\": \"The share of missing values in the column **occupation** is 0.055. The test threshold is lte=0.0637 \\\\u00b1 0.00637.\", \"status\": \"SUCCESS\", \"group\": \"data_integrity\", \"parameters\": {\"condition\": {\"lte\": {\"value\": 0.06372306605439775, \"relative\": 0.1, \"absolute\": 1e-12}}, \"value\": 0.05497736904315738, \"column_name\": \"occupation\"}}, {\"name\": \"The Share of Missing Values in a Column\", \"description\": \"The share of missing values in the column **race** is 0. The test threshold is lte=0 \\\\u00b1 1e-12.\", \"status\": \"SUCCESS\", \"group\": \"data_integrity\", \"parameters\": {\"condition\": {\"lte\": {\"value\": 0.0, \"relative\": 0.1, \"absolute\": 1e-12}}, \"value\": 0.0, \"column_name\": \"race\"}}, {\"name\": \"The Share of Missing Values in a Column\", \"description\": \"The share of missing values in the column **relationship** is 0. The test threshold is lte=0 \\\\u00b1 1e-12.\", \"status\": \"SUCCESS\", \"group\": \"data_integrity\", \"parameters\": {\"condition\": {\"lte\": {\"value\": 0.0, \"relative\": 0.1, \"absolute\": 1e-12}}, \"value\": 0.0, \"column_name\": \"relationship\"}}, {\"name\": \"The Share of Missing Values in a Column\", \"description\": \"The share of missing values in the column **sex** is 0. The test threshold is lte=0 \\\\u00b1 1e-12.\", \"status\": \"SUCCESS\", \"group\": \"data_integrity\", \"parameters\": {\"condition\": {\"lte\": {\"value\": 0.0, \"relative\": 0.1, \"absolute\": 1e-12}}, \"value\": 0.0, \"column_name\": \"sex\"}}, {\"name\": \"The Share of Missing Values in a Column\", \"description\": \"The share of missing values in the column **workclass** is 0.0549. The test threshold is lte=0.0633 \\\\u00b1 0.00633.\", \"status\": \"SUCCESS\", \"group\": \"data_integrity\", \"parameters\": {\"condition\": {\"lte\": {\"value\": 0.06329918756623101, \"relative\": 0.1, \"absolute\": 1e-12}}, \"value\": 0.05486205206561536, \"column_name\": \"workclass\"}}, {\"name\": \"The Share of Missing Values in a Column\", \"description\": \"The share of missing values in the column **age** is 0. The test threshold is lte=0 \\\\u00b1 1e-12.\", \"status\": \"SUCCESS\", \"group\": \"data_integrity\", \"parameters\": {\"condition\": {\"lte\": {\"value\": 0.0, \"relative\": 0.1, \"absolute\": 1e-12}}, \"value\": 0.0, \"column_name\": \"age\"}}, {\"name\": \"The Share of Missing Values in a Column\", \"description\": \"The share of missing values in the column **capital-gain** is 0. The test threshold is lte=0 \\\\u00b1 1e-12.\", \"status\": \"SUCCESS\", \"group\": \"data_integrity\", \"parameters\": {\"condition\": {\"lte\": {\"value\": 0.0, \"relative\": 0.1, \"absolute\": 1e-12}}, \"value\": 0.0, \"column_name\": \"capital-gain\"}}, {\"name\": \"The Share of Missing Values in a Column\", \"description\": \"The share of missing values in the column **capital-loss** is 0. The test threshold is lte=0 \\\\u00b1 1e-12.\", \"status\": \"SUCCESS\", \"group\": \"data_integrity\", \"parameters\": {\"condition\": {\"lte\": {\"value\": 0.0, \"relative\": 0.1, \"absolute\": 1e-12}}, \"value\": 0.0, \"column_name\": \"capital-loss\"}}, {\"name\": \"The Share of Missing Values in a Column\", \"description\": \"The share of missing values in the column **education-num** is 0.0577. The test threshold is lte=0 \\\\u00b1 1e-12.\", \"status\": \"FAIL\", \"group\": \"data_integrity\", \"parameters\": {\"condition\": {\"lte\": {\"value\": 0.0, \"relative\": 0.1, \"absolute\": 1e-12}}, \"value\": 0.05765848877100931, \"column_name\": \"education-num\"}}, {\"name\": \"The Share of Missing Values in a Column\", \"description\": \"The share of missing values in the column **fnlwgt** is 0. The test threshold is lte=0 \\\\u00b1 1e-12.\", \"status\": \"SUCCESS\", \"group\": \"data_integrity\", \"parameters\": {\"condition\": {\"lte\": {\"value\": 0.0, \"relative\": 0.1, \"absolute\": 1e-12}}, \"value\": 0.0, \"column_name\": \"fnlwgt\"}}, {\"name\": \"The Share of Missing Values in a Column\", \"description\": \"The share of missing values in the column **hours-per-week** is 0. The test threshold is lte=0 \\\\u00b1 1e-12.\", \"status\": \"SUCCESS\", \"group\": \"data_integrity\", \"parameters\": {\"condition\": {\"lte\": {\"value\": 0.0, \"relative\": 0.1, \"absolute\": 1e-12}}, \"value\": 0.0, \"column_name\": \"hours-per-week\"}}, {\"name\": \"Share of Out-of-Range Values\", \"description\": \"The share of values out of range in the column **age** is 0 (0 out of 34687).  The test threshold is eq=0 \\\\u00b1 1e-12.\", \"status\": \"SUCCESS\", \"group\": \"data_quality\", \"parameters\": {\"condition\": {\"eq\": {\"value\": 0, \"relative\": 1e-06, \"absolute\": 1e-12}}, \"value\": 0.0, \"left\": null, \"right\": null}}, {\"name\": \"Share of Out-of-Range Values\", \"description\": \"The share of values out of range in the column **capital-gain** is 0 (0 out of 34687).  The test threshold is eq=0 \\\\u00b1 1e-12.\", \"status\": \"SUCCESS\", \"group\": \"data_quality\", \"parameters\": {\"condition\": {\"eq\": {\"value\": 0, \"relative\": 1e-06, \"absolute\": 1e-12}}, \"value\": 0.0, \"left\": null, \"right\": null}}, {\"name\": \"Share of Out-of-Range Values\", \"description\": \"The share of values out of range in the column **capital-loss** is 8.65e-05 (3 out of 34687).  The test threshold is eq=0 \\\\u00b1 1e-12.\", \"status\": \"FAIL\", \"group\": \"data_quality\", \"parameters\": {\"condition\": {\"eq\": {\"value\": 0, \"relative\": 1e-06, \"absolute\": 1e-12}}, \"value\": 8.648773315651397e-05, \"left\": null, \"right\": null}}, {\"name\": \"Share of Out-of-Range Values\", \"description\": \"The share of values out of range in the column **education-num** is 0 (0 out of 32687).  The test threshold is eq=0 \\\\u00b1 1e-12.\", \"status\": \"SUCCESS\", \"group\": \"data_quality\", \"parameters\": {\"condition\": {\"eq\": {\"value\": 0, \"relative\": 1e-06, \"absolute\": 1e-12}}, \"value\": 0.0, \"left\": null, \"right\": null}}, {\"name\": \"Share of Out-of-Range Values\", \"description\": \"The share of values out of range in the column **fnlwgt** is 0.000115 (4 out of 34687).  The test threshold is eq=0 \\\\u00b1 1e-12.\", \"status\": \"FAIL\", \"group\": \"data_quality\", \"parameters\": {\"condition\": {\"eq\": {\"value\": 0, \"relative\": 1e-06, \"absolute\": 1e-12}}, \"value\": 0.00011531697754201862, \"left\": null, \"right\": null}}, {\"name\": \"Share of Out-of-Range Values\", \"description\": \"The share of values out of range in the column **hours-per-week** is 0 (0 out of 34687).  The test threshold is eq=0 \\\\u00b1 1e-12.\", \"status\": \"SUCCESS\", \"group\": \"data_quality\", \"parameters\": {\"condition\": {\"eq\": {\"value\": 0, \"relative\": 1e-06, \"absolute\": 1e-12}}, \"value\": 0.0, \"left\": null, \"right\": null}}, {\"name\": \"Share of Out-of-List Values\", \"description\": \"The share of values out of list in the column **class** is 0 (0 out of 34687). The test threshold is eq=0 \\\\u00b1 1e-12.\", \"status\": \"SUCCESS\", \"group\": \"data_quality\", \"parameters\": {\"condition\": {\"eq\": {\"value\": 0, \"relative\": 1e-06, \"absolute\": 1e-12}}, \"value\": 0.0, \"values\": null}}, {\"name\": \"Share of Out-of-List Values\", \"description\": \"The share of values out of list in the column **education** is 1 (34687 out of 34687). The test threshold is eq=0 \\\\u00b1 1e-12.\", \"status\": \"FAIL\", \"group\": \"data_quality\", \"parameters\": {\"condition\": {\"eq\": {\"value\": 0, \"relative\": 1e-06, \"absolute\": 1e-12}}, \"value\": 1.0, \"values\": null}}, {\"name\": \"Share of Out-of-List Values\", \"description\": \"The share of values out of list in the column **marital-status** is 0 (0 out of 34687). The test threshold is eq=0 \\\\u00b1 1e-12.\", \"status\": \"SUCCESS\", \"group\": \"data_quality\", \"parameters\": {\"condition\": {\"eq\": {\"value\": 0, \"relative\": 1e-06, \"absolute\": 1e-12}}, \"value\": 0.0, \"values\": null}}, {\"name\": \"Share of Out-of-List Values\", \"description\": \"The share of values out of list in the column **native-country** is 0.0163 (564 out of 34687). The test threshold is eq=0 \\\\u00b1 1e-12.\", \"status\": \"FAIL\", \"group\": \"data_quality\", \"parameters\": {\"condition\": {\"eq\": {\"value\": 0, \"relative\": 1e-06, \"absolute\": 1e-12}}, \"value\": 0.016259693833424627, \"values\": null}}, {\"name\": \"Share of Out-of-List Values\", \"description\": \"The share of values out of list in the column **occupation** is 0.055 (1907 out of 34687). The test threshold is eq=0 \\\\u00b1 1e-12.\", \"status\": \"FAIL\", \"group\": \"data_quality\", \"parameters\": {\"condition\": {\"eq\": {\"value\": 0, \"relative\": 1e-06, \"absolute\": 1e-12}}, \"value\": 0.05497736904315738, \"values\": null}}, {\"name\": \"Share of Out-of-List Values\", \"description\": \"The share of values out of list in the column **race** is 0 (0 out of 34687). The test threshold is eq=0 \\\\u00b1 1e-12.\", \"status\": \"SUCCESS\", \"group\": \"data_quality\", \"parameters\": {\"condition\": {\"eq\": {\"value\": 0, \"relative\": 1e-06, \"absolute\": 1e-12}}, \"value\": 0.0, \"values\": null}}, {\"name\": \"Share of Out-of-List Values\", \"description\": \"The share of values out of list in the column **relationship** is 0 (0 out of 34687). The test threshold is eq=0 \\\\u00b1 1e-12.\", \"status\": \"SUCCESS\", \"group\": \"data_quality\", \"parameters\": {\"condition\": {\"eq\": {\"value\": 0, \"relative\": 1e-06, \"absolute\": 1e-12}}, \"value\": 0.0, \"values\": null}}, {\"name\": \"Share of Out-of-List Values\", \"description\": \"The share of values out of list in the column **sex** is 0 (0 out of 34687). The test threshold is eq=0 \\\\u00b1 1e-12.\", \"status\": \"SUCCESS\", \"group\": \"data_quality\", \"parameters\": {\"condition\": {\"eq\": {\"value\": 0, \"relative\": 1e-06, \"absolute\": 1e-12}}, \"value\": 0.0, \"values\": null}}, {\"name\": \"Share of Out-of-List Values\", \"description\": \"The share of values out of list in the column **workclass** is 0.0549 (1903 out of 34687). The test threshold is eq=0 \\\\u00b1 1e-12.\", \"status\": \"FAIL\", \"group\": \"data_quality\", \"parameters\": {\"condition\": {\"eq\": {\"value\": 0, \"relative\": 1e-06, \"absolute\": 1e-12}}, \"value\": 0.05486205206561536, \"values\": null}}, {\"name\": \"Mean Value Stability\", \"description\": \"The mean value of the column **age** is 38. The expected range is from 11.3 to 69.3\", \"status\": \"SUCCESS\", \"group\": \"data_quality\", \"parameters\": {\"column_name\": \"age\", \"current_mean\": 37.97, \"n_sigmas\": 2, \"reference_mean\": 40.3, \"reference_std\": 14.52}}, {\"name\": \"Mean Value Stability\", \"description\": \"The mean value of the column **capital-gain** is 844. The expected range is from -1.82e+04 to 2.15e+04\", \"status\": \"SUCCESS\", \"group\": \"data_quality\", \"parameters\": {\"column_name\": \"capital-gain\", \"current_mean\": 844.27, \"n_sigmas\": 2, \"reference_mean\": 1654.45, \"reference_std\": 9908.08}}, {\"name\": \"Mean Value Stability\", \"description\": \"The mean value of the column **capital-loss** is 83.3. The expected range is from -763 to 958\", \"status\": \"SUCCESS\", \"group\": \"data_quality\", \"parameters\": {\"column_name\": \"capital-loss\", \"current_mean\": 83.32, \"n_sigmas\": 2, \"reference_mean\": 97.74, \"reference_std\": 430.27}}, {\"name\": \"Mean Value Stability\", \"description\": \"The mean value of the column **education-num** is 10.2. The expected range is from 1.56 to 17.8\", \"status\": \"SUCCESS\", \"group\": \"data_quality\", \"parameters\": {\"column_name\": \"education-num\", \"current_mean\": 10.24, \"n_sigmas\": 2, \"reference_mean\": 9.68, \"reference_std\": 4.06}}, {\"name\": \"Mean Value Stability\", \"description\": \"The mean value of the column **fnlwgt** is 1.89e+05. The expected range is from -2.1e+04 to 4.04e+05\", \"status\": \"SUCCESS\", \"group\": \"data_quality\", \"parameters\": {\"column_name\": \"fnlwgt\", \"current_mean\": 188997.37, \"n_sigmas\": 2, \"reference_mean\": 191298.05, \"reference_std\": 106149.45}}, {\"name\": \"Mean Value Stability\", \"description\": \"The mean value of the column **hours-per-week** is 40.5. The expected range is from 13.4 to 67\", \"status\": \"SUCCESS\", \"group\": \"data_quality\", \"parameters\": {\"column_name\": \"hours-per-week\", \"current_mean\": 40.51, \"n_sigmas\": 2, \"reference_mean\": 40.21, \"reference_std\": 13.42}}], \"summary\": {\"all_passed\": false, \"total_tests\": 39, \"success_tests\": 30, \"failed_tests\": 9, \"by_status\": {\"FAIL\": 9, \"SUCCESS\": 30}}, \"timestamp\": \"2023-08-22 18:24:09.472531\"}'"
      ]
     },
     "execution_count": 7,
     "metadata": {},
     "output_type": "execute_result"
    }
   ],
   "source": [
    "#test preset in a JSON format\n",
    "data_stability.json()"
   ]
  },
  {
   "cell_type": "code",
   "execution_count": null,
   "metadata": {},
   "outputs": [],
   "source": [
    "#test preset as a python object\n",
    "data_stability.as_dict()"
   ]
  },
  {
   "cell_type": "code",
   "execution_count": null,
   "metadata": {},
   "outputs": [],
   "source": [
    "data_quality = TestSuite(tests=[\n",
    "    DataQualityTestPreset(),\n",
    "])\n",
    "\n",
    "data_quality.run(reference_data=adult_ref, current_data=adult_cur)\n",
    "data_quality"
   ]
  },
  {
   "cell_type": "code",
   "execution_count": null,
   "metadata": {},
   "outputs": [],
   "source": [
    "data_drift = TestSuite(tests=[\n",
    "    DataDriftTestPreset(stattest='psi'),\n",
    "])\n",
    "\n",
    "data_drift.run(reference_data=adult_ref, current_data=adult_cur)\n",
    "data_drift"
   ]
  },
  {
   "cell_type": "code",
   "execution_count": null,
   "metadata": {},
   "outputs": [],
   "source": [
    "no_target_performance = TestSuite(tests=[\n",
    "    NoTargetPerformanceTestPreset(columns=['education-num', 'hours-per-week'],  num_stattest='ks', cat_stattest='psi'),\n",
    "])\n",
    "\n",
    "no_target_performance.run(reference_data=adult_ref, current_data=adult_cur)\n",
    "no_target_performance"
   ]
  },
  {
   "cell_type": "code",
   "execution_count": null,
   "metadata": {},
   "outputs": [],
   "source": [
    "regression_performance = TestSuite(tests=[\n",
    "    RegressionTestPreset()\n",
    "])\n",
    "\n",
    "regression_performance.run(reference_data=housing_ref, current_data=housing_cur)\n",
    "regression_performance"
   ]
  },
  {
   "cell_type": "code",
   "execution_count": null,
   "metadata": {},
   "outputs": [],
   "source": [
    "classification_performance = TestSuite(tests=[\n",
    "   MulticlassClassificationTestPreset(stattest='psi')\n",
    "])\n",
    "\n",
    "classification_performance.run(reference_data=iris_ref, current_data=iris_cur)\n",
    "classification_performance"
   ]
  },
  {
   "cell_type": "code",
   "execution_count": null,
   "metadata": {},
   "outputs": [],
   "source": [
    "label_binary_classification_performance = TestSuite(tests=[\n",
    "    BinaryClassificationTestPreset(),\n",
    "])\n",
    "\n",
    "label_binary_classification_performance.run(reference_data=bcancer_label_ref, current_data=bcancer_label_cur)\n",
    "label_binary_classification_performance"
   ]
  },
  {
   "cell_type": "code",
   "execution_count": null,
   "metadata": {},
   "outputs": [],
   "source": [
    "prob_binary_classification_performance = TestSuite(tests=[\n",
    "    BinaryClassificationTestPreset(stattest='psi', probas_threshold=0.89),\n",
    "])\n",
    "\n",
    "prob_binary_classification_performance.run(reference_data=bcancer_ref, current_data=bcancer_cur)\n",
    "prob_binary_classification_performance"
   ]
  }
 ],
 "metadata": {
  "kernelspec": {
   "display_name": "mlflow",
   "language": "python",
   "name": "python3"
  },
  "language_info": {
   "codemirror_mode": {
    "name": "ipython",
    "version": 3
   },
   "file_extension": ".py",
   "mimetype": "text/x-python",
   "name": "python",
   "nbconvert_exporter": "python",
   "pygments_lexer": "ipython3",
   "version": "3.10.12"
  },
  "orig_nbformat": 4
 },
 "nbformat": 4,
 "nbformat_minor": 2
}
